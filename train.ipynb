{
 "cells": [
  {
   "cell_type": "code",
   "execution_count": null,
   "metadata": {},
   "outputs": [],
   "source": [
    "%store -r\n",
    "import sys,json, os\n",
    "job_class = os.getenv(\"DKUBE_JOB_CLASS\")\n",
    "if not job_class:\n",
    "    !{sys.executable} -m pip install kfp==1.4.0 kfp-server-api==1.2.0 --user >/dev/null"
   ]
  },
  {
   "cell_type": "code",
   "execution_count": null,
   "metadata": {},
   "outputs": [],
   "source": [
    "MONITOR_NAME = d3_config['MONITOR_NAME']\n",
    "DATA_SOURCE = d3_config['DATA_SOURCE']\n",
    "INPUT_TRAIN_TYPE = d3_config['INPUT_TRAIN_TYPE']\n",
    "DKUBEUSERNAME = d3_config['DKUBEUSERNAME']\n",
    "TOKEN = d3_config['TOKEN']\n",
    "DKUBE_BASE_DATASET = d3_config['DKUBE_BASE_DATASET']\n",
    "MODEL_NAME = d3_config['MODEL_NAME']\n",
    "RETRAINING_DATASET = d3_config['RETRAINING_DATASET']\n",
    "DKUBE_TRAINING_CODE_NAME = d3_config['DKUBE_TRAINING_CODE_NAME']\n",
    "USE_REMOTE_DEPLOYMENT = d3_config['USE_REMOTE_DEPLOYMENT'] = False\n",
    "%store d3_config"
   ]
  },
  {
   "cell_type": "markdown",
   "metadata": {},
   "source": [
    "## Importing libraries"
   ]
  },
  {
   "cell_type": "code",
   "execution_count": null,
   "metadata": {},
   "outputs": [],
   "source": [
    "import requests"
   ]
  },
  {
   "cell_type": "code",
   "execution_count": null,
   "metadata": {},
   "outputs": [],
   "source": [
    "import json\n",
    "import kfp\n",
    "import kfp.dsl as dsl\n",
    "import kfp.compiler as compiler\n",
    "from kfp import components\n",
    "from kubernetes import client as k8s_client\n",
    "\n",
    "import os\n",
    "import kfp\n",
    "import string\n",
    "import random\n",
    "import kfp.dsl as dsl\n",
    "import kfp.compiler as compiler\n",
    "from kfp import components\n",
    "from kubernetes import client as k8s_client\n",
    "\n",
    "from dkube.sdk.api import DkubeApi\n",
    "from dkube.sdk.rsrcs import DkubeCode\n",
    "from dkube.sdk.rsrcs import DkubeDataset\n",
    "from dkube.sdk.rsrcs import DkubeModel"
   ]
  },
  {
   "cell_type": "markdown",
   "metadata": {},
   "source": [
    "## Loading Components"
   ]
  },
  {
   "cell_type": "code",
   "execution_count": null,
   "metadata": {},
   "outputs": [],
   "source": [
    "dkube_preprocessing_op = components.load_component_from_file(\"/mnt/dkube/pipeline/components/preprocess/component.yaml\")\n",
    "dkube_training_op = components.load_component_from_file(\"/mnt/dkube/pipeline/components/training/component.yaml\")\n",
    "dkube_serving_op  = components.load_component_from_file(\"/mnt/dkube/pipeline/components/serving/component.yaml\") "
   ]
  },
  {
   "cell_type": "code",
   "execution_count": null,
   "metadata": {},
   "outputs": [],
   "source": [
    "api = DkubeApi(token=os.getenv(\"DKUBE_USER_ACCESS_TOKEN\",TOKEN))\n",
    "client = kfp.Client(\n",
    "    host=os.getenv(\"KF_PIPELINES_ENDPOINT\"),\n",
    "    existing_token=os.getenv(\"DKUBE_USER_ACCESS_TOKEN\",TOKEN),\n",
    "    namespace=DKUBEUSERNAME)"
   ]
  },
  {
   "cell_type": "markdown",
   "metadata": {},
   "source": [
    "## Pipeline Inputs"
   ]
  },
  {
   "cell_type": "code",
   "execution_count": null,
   "metadata": {},
   "outputs": [],
   "source": [
    "training_program = DKUBE_TRAINING_CODE_NAME\n",
    "if (DATA_SOURCE == 'local' or DATA_SOURCE == 'aws-s3') and INPUT_TRAIN_TYPE == 'retraining':\n",
    "    input_training_dataset = MONITOR_NAME +'-groundtruth'\n",
    "else:\n",
    "    input_training_dataset = DKUBE_BASE_DATASET\n",
    "\n",
    "\n",
    "## Preprocessing stage inputs\n",
    "preprocessing_script =f\"pip3 install pymysql --user;python insurance_datasources/preprocessing.py --data_source {DATA_SOURCE} --train_type {INPUT_TRAIN_TYPE} --monitor_name {MONITOR_NAME} --user {DKUBEUSERNAME}\"\n",
    "input_dataset_mount = ['/data']\n",
    "output_dataset = RETRAINING_DATASET\n",
    "output_mount_path = ['/train-data']\n",
    "\n",
    "## Training stage inputs\n",
    "training_script = \"python insurance_datasources/training.py\"\n",
    "model_name = MODEL_NAME\n",
    "output_model_mount = \"/model\""
   ]
  },
  {
   "cell_type": "markdown",
   "metadata": {},
   "source": [
    "## Pipeline Definition"
   ]
  },
  {
   "cell_type": "code",
   "execution_count": null,
   "metadata": {},
   "outputs": [],
   "source": [
    "@kfp.dsl.pipeline(\n",
    "    name='training-pipeline',\n",
    "    description='insurance-training-pl'\n",
    ")\n",
    "def insurance_pipeline(token):\n",
    "    \n",
    "    preprocessing = dkube_preprocessing_op(\n",
    "                                    auth_token=str(token),\n",
    "                                    container=json.dumps({\"image\": \"ocdr/dkube-datascience-tf-cpu:v2.0.0-16\"}),\n",
    "                                    program=str(training_program),\n",
    "                                    datasets = json.dumps([str(input_training_dataset)]),\n",
    "                                    input_dataset_mounts = json.dumps(input_dataset_mount),\n",
    "                                    run_script=str(preprocessing_script),\n",
    "                                    outputs=json.dumps([str(output_dataset)]),\n",
    "                                    output_mounts=json.dumps(output_mount_path)).set_display_name(\"data-generation\")\n",
    "    \n",
    "    train       = dkube_training_op(container=json.dumps({\"image\": \"ocdr/dkube-datascience-tf-cpu:v2.0.0-16\"}),\n",
    "                                    framework=\"tensorflow\", version=\"2.0.0\",\n",
    "                                    program=str(training_program), \n",
    "                                    run_script=str(training_script),\n",
    "                                    datasets=json.dumps([str(output_dataset)]), outputs=json.dumps([str(model_name)]),\n",
    "                                    input_dataset_mounts=json.dumps(output_mount_path),\n",
    "                                    output_mounts=json.dumps([str(output_model_mount)]),\n",
    "                                    auth_token=token).after(preprocessing)\n",
    "    \n",
    "    serving     = dkube_serving_op(model=train.outputs['artifact'], device='cpu',\n",
    "                                    name=MONITOR_NAME,\n",
    "                                    serving_image=json.dumps({\"image\": \"ocdr/tensorflowserver:2.0.0\"}),\n",
    "                                    transformer_image =json.dumps({\"image\": \"ocdr/dkube-datascience-tf-cpu:v2.0.0-16\"}),\n",
    "                                    transformer_project=str(training_program),\n",
    "                                    transformer_code='insurance_datasources/transformer.py', auth_token=token).after(train)"
   ]
  },
  {
   "cell_type": "code",
   "execution_count": null,
   "metadata": {},
   "outputs": [],
   "source": [
    "if not USE_REMOTE_DEPLOYMENT:\n",
    "    deployment_id = api.get_deployment_id(name=MONITOR_NAME)\n",
    "    if not deployment_id:\n",
    "        client.create_run_from_pipeline_func(insurance_pipeline, arguments={'token':TOKEN})\n",
    "    else:\n",
    "        print(\"Deployment Already Existing, skipping create\")"
   ]
  },
  {
   "cell_type": "code",
   "execution_count": null,
   "metadata": {},
   "outputs": [],
   "source": []
  }
 ],
 "metadata": {
  "kernelspec": {
   "display_name": "Python 3",
   "language": "python",
   "name": "python3"
  },
  "language_info": {
   "codemirror_mode": {
    "name": "ipython",
    "version": 3
   },
   "file_extension": ".py",
   "mimetype": "text/x-python",
   "name": "python",
   "nbconvert_exporter": "python",
   "pygments_lexer": "ipython3",
   "version": "3.10.7 (main, Sep 15 2022, 01:51:29) [Clang 14.0.0 (clang-1400.0.29.102)]"
  },
  "vscode": {
   "interpreter": {
    "hash": "aee8b7b246df8f9039afb4144a1f6fd8d2ca17a180786b69acc140d282b71a49"
   }
  }
 },
 "nbformat": 4,
 "nbformat_minor": 4
}
