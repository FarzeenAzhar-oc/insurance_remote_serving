{
 "cells": [
  {
   "cell_type": "markdown",
   "metadata": {},
   "source": [
    "#### Checking and upgrading the DKube SDK"
   ]
  },
  {
   "cell_type": "code",
   "execution_count": null,
   "metadata": {},
   "outputs": [],
   "source": [
    "import pkg_resources, sys\n",
    "try:\n",
    "    dkube_sdk_version = float(pkg_resources.get_distribution(\"dkube\").version)\n",
    "except:\n",
    "    dkube_sdk_version = 0 ## means the dkube sdk is not installed\n",
    "if dkube_sdk_version < 3.7:\n",
    "    !{sys.executable} -m pip install git+https://github.com/oneconvergence/dkube.git@3.7 --user >/dev/null\n",
    "%reset -f"
   ]
  },
  {
   "cell_type": "markdown",
   "metadata": {},
   "source": [
    "#### Defined by User"
   ]
  },
  {
   "cell_type": "code",
   "execution_count": null,
   "metadata": {},
   "outputs": [],
   "source": [
    "import os\n",
    "## Dkube information\n",
    "DKUBEUSERNAME = os.getenv(\"DKUBE_USER_LOGIN_NAME\",\"\")\n",
    "TOKEN = os.getenv(\"DKUBE_USER_ACCESS_TOKEN\",\"\")\n",
    "DKUBE_URL = os.getenv(\"DKUBE_URL\",\"\")\n",
    "## Specify the data source [aws-s3,minio,sql,local]\n",
    "DATA_SOURCE = \"local\""
   ]
  },
  {
   "cell_type": "code",
   "execution_count": null,
   "metadata": {},
   "outputs": [],
   "source": [
    "## AWS_S3 \n",
    "ACCESS_KEY = os.getenv(\"AWS_ACCESS_KEY_ID\",\"\")\n",
    "SECRET_KEY = os.getenv(\"AWS_SECRET_ACCESS_KEY\",\"\")\n",
    "BUCKET = \"cloudevents\"\n",
    "## If minio is data source then provide the endpoint\n",
    "ENDPOINT = None"
   ]
  },
  {
   "cell_type": "code",
   "execution_count": null,
   "metadata": {},
   "outputs": [],
   "source": [
    "if (DATA_SOURCE == \"minio\") and (ENDPOINT is None):\n",
    "    raise Exception(\"Endpoint cannot be none of data source is MINIO\")"
   ]
  },
  {
   "cell_type": "code",
   "execution_count": null,
   "metadata": {},
   "outputs": [],
   "source": [
    "## SQL\n",
    "# DBHOSTNAME should be provided in the one of the following format.\n",
    "# IP:PORT for eg 127.0.0.1:3306\n",
    "# DOMAIN:PORT for eg my-db.com:3306\n",
    "DBHOSTNAME   = os.getenv(\"DBHOSTNAME\",\"\")\n",
    "DATABASENAME = os.getenv(\"DATABASENAME\",\"\")\n",
    "DBUSERNAME   = os.getenv(\"DBUSERNAME\",\"\")\n",
    "DBPASSWORD   = os.getenv(\"DBPASSWORD\",\"\")\n",
    "\n",
    "# supported value are mysql or mssql\n",
    "DB_PROVIDER = \"mysql\""
   ]
  },
  {
   "cell_type": "code",
   "execution_count": null,
   "metadata": {},
   "outputs": [],
   "source": [
    "## Define the model monitor name here that you will be creating \n",
    "MONITOR_NAME = \"insurance-mm-d3\"\n",
    "\n",
    "## Specify Training type, [training,retraining]\n",
    "INPUT_TRAIN_TYPE = \"training\"\n",
    "\n",
    "# Required in train.ipynb to retrain the model\n",
    "DKUBE_TRAINING_CODE_NAME = \"monitoring-examples\"\n",
    "\n",
    "# Use Remote Deployment\n",
    "USE_REMOTE_DEPLOYMENT = True\n",
    "\n",
    "\n",
    "# dataset to be used as training data\n",
    "DKUBE_BASE_DATASET = \"insurance-data\"\n",
    "if DATA_SOURCE == \"sql\":\n",
    "    DKUBE_BASE_DATASET = f\"{DKUBE_BASE_DATASET}-sql\"\n",
    "\n",
    "# Model name to be created or used for example, it will create the model\n",
    "# if not existing otherwise it will ignore creation.\n",
    "MODEL_NAME = MONITOR_NAME\n",
    "\n",
    "# If you  are doing retraining then you need to provide it\n",
    "RETRAINING_DATASET = 'insurance-training-data'\n",
    "\n",
    "# the frequency with which monitoring will run\n",
    "RUN_FREQUENCY = 5\n",
    "\n",
    "if TOKEN == '' or DKUBEUSERNAME == '' or DKUBE_URL == '':\n",
    "    print(\"Please fill the Dkube details first (TOKEN, DKUBE_URL, DKUBEUSERNAME)\")\n",
    "    raise TypeError\n",
    "if DATA_SOURCE == 'aws-s3' and (ACCESS_KEY == '' or SECRET_KEY == ''):\n",
    "    print(\"Please fill the AWS-S3 details first (ACCESS_KEY, SECRET_KEY)\")\n",
    "    raise TypeError\n",
    "if DATA_SOURCE == 'sql' and (DBHOSTNAME == '' or DATABASENAME == '' or DBUSERNAME == '' or DBPASSWORD == ''):\n",
    "    print(\"Please fill the SQL details first (DBHOSTNAME, DATABASENAME, DBUSERNAME, DBPASSWORD)\")\n",
    "    raise TypeError\n",
    "if DATA_SOURCE == \"sql\" and DB_PROVIDER not in [\"mysql\", \"mssql\"]:\n",
    "    raise ValueError(f\"{DB_PROVIDER} is not supported\")\n",
    "\n",
    "# it will be autofilled by code if USE_REMOTE_DEPLOYMENT is false\n",
    "INFERENCE_URL = None"
   ]
  },
  {
   "cell_type": "markdown",
   "metadata": {},
   "source": [
    "#### Dkube Resources"
   ]
  },
  {
   "cell_type": "code",
   "execution_count": null,
   "metadata": {},
   "outputs": [],
   "source": [
    "import time,json,shutil\n",
    "from dkube.sdk import *"
   ]
  },
  {
   "cell_type": "code",
   "execution_count": null,
   "metadata": {},
   "outputs": [],
   "source": [
    "api = DkubeApi(URL=DKUBE_URL,token=TOKEN)\n",
    "if DKUBEUSERNAME == api.validate_token()['username']:\n",
    "    pass\n",
    "else:\n",
    "    print(\"Invalid User, please check your username, first\")"
   ]
  },
  {
   "cell_type": "code",
   "execution_count": null,
   "metadata": {},
   "outputs": [],
   "source": [
    "data = api.get_modelmonitor_id(MONITOR_NAME)\n",
    "if data.data:\n",
    "    MONITOR_ID = data.data.get(MONITOR_NAME)\n",
    "    if MONITOR_ID:\n",
    "        raise ValueError(f\"{MONITOR_NAME} already existing please use a different name\")"
   ]
  },
  {
   "cell_type": "code",
   "execution_count": null,
   "metadata": {},
   "outputs": [],
   "source": [
    "d3_config = {\"MONITOR_NAME\":MONITOR_NAME, \"DATA_SOURCE\": DATA_SOURCE, \n",
    "            \"INPUT_TRAIN_TYPE\":INPUT_TRAIN_TYPE, \"DKUBEUSERNAME\":DKUBEUSERNAME,\n",
    "             \"TOKEN\":TOKEN, \"DKUBE_URL\":DKUBE_URL, \"ACCESS_KEY\":ACCESS_KEY,\n",
    "             \"ENDPOINT\":ENDPOINT, \"BUCKET\":BUCKET,\n",
    "            \"SECRET_KEY\":SECRET_KEY, \"DBHOSTNAME\":DBHOSTNAME, \"DATABASENAME\":DATABASENAME,\n",
    "            \"DBUSERNAME\":DBUSERNAME, \"DBPASSWORD\":DBPASSWORD, \"DB_PROVIDER\":DB_PROVIDER,\n",
    "            \"DKUBE_BASE_DATASET\":DKUBE_BASE_DATASET, \"MODEL_NAME\":MODEL_NAME,\n",
    "            \"RETRAINING_DATASET\":RETRAINING_DATASET, \"RUN_FREQUENCY\":RUN_FREQUENCY,\n",
    "            \"DKUBE_TRAINING_CODE_NAME\":DKUBE_TRAINING_CODE_NAME,\n",
    "            \"USE_REMOTE_DEPLOYMENT\":USE_REMOTE_DEPLOYMENT}\n",
    "%store d3_config"
   ]
  },
  {
   "cell_type": "markdown",
   "metadata": {},
   "source": [
    "#### Dataset"
   ]
  },
  {
   "cell_type": "code",
   "execution_count": null,
   "metadata": {},
   "outputs": [],
   "source": [
    "if DATA_SOURCE in ['local','aws-s3', 'minio']:\n",
    "    try:\n",
    "        dataset = DkubeDataset(DKUBEUSERNAME, name=DKUBE_BASE_DATASET)\n",
    "        dataset.update_git_details(url=\"https://dkube-examples-data.s3.us-west-2.amazonaws.com/monitoring-insurance/training-data/insurance.csv\")\n",
    "        dataset.update_dataset_source(source=\"pub_url\")\n",
    "        api.create_dataset(dataset)\n",
    "    except Exception as e:\n",
    "        if e.reason.lower()!=\"conflict\":\n",
    "            response = e.body\n",
    "            print(f\"Failed[{response.code}]: {response.message}\")\n",
    "        \n",
    "if DATA_SOURCE == 'sql':\n",
    "    try:\n",
    "        dataset = DkubeDataset(DKUBEUSERNAME, name=DKUBE_BASE_DATASET,remote=True)\n",
    "        dataset.update_dataset_source('sql')\n",
    "        dataset.update_sql_details(\n",
    "            host=DBHOSTNAME.split(\":\")[0],\n",
    "            port=int(DBHOSTNAME.split(\":\")[1]),\n",
    "            username=DBUSERNAME,\n",
    "            password=DBPASSWORD,\n",
    "            database=DATABASENAME,\n",
    "            provider=DB_PROVIDER)\n",
    "        api.create_dataset(dataset)\n",
    "     \n",
    "    except Exception as e:\n",
    "        if e.reason:\n",
    "            if e.reason.lower() != \"conflict\":\n",
    "                response = e.body\n",
    "                print(f\"Failed[{response.code}]: {response.message}\")\n",
    "        else:\n",
    "            raise e"
   ]
  },
  {
   "cell_type": "markdown",
   "metadata": {},
   "source": [
    "### Model Monitor Datasets"
   ]
  },
  {
   "cell_type": "markdown",
   "metadata": {},
   "source": [
    "##### (Training / Retraining) Dataset"
   ]
  },
  {
   "cell_type": "code",
   "execution_count": null,
   "metadata": {},
   "outputs": [],
   "source": [
    "try:\n",
    "    dataset = DkubeDataset(DKUBEUSERNAME, name=RETRAINING_DATASET)\n",
    "    api.create_dataset(dataset)\n",
    "\n",
    "except Exception as e:\n",
    "    if e.reason:\n",
    "            if e.reason.lower() != \"conflict\":\n",
    "                response = e.body\n",
    "                print(f\"Failed[{response.code}]: {response.message}\")\n",
    "    else:\n",
    "        raise e"
   ]
  },
  {
   "cell_type": "markdown",
   "metadata": {},
   "source": [
    "##### Predict Dataset"
   ]
  },
  {
   "cell_type": "code",
   "execution_count": null,
   "metadata": {},
   "outputs": [],
   "source": [
    "pname =  MONITOR_NAME+'-predict'\n",
    "prefix = MONITOR_NAME+'/predict'\n",
    "\n",
    "if DATA_SOURCE == 'local':\n",
    "    try:\n",
    "        dataset = DkubeDataset(DKUBEUSERNAME, name=pname)\n",
    "        api.create_dataset(dataset)\n",
    "    \n",
    "    except Exception as e:\n",
    "        if e.reason:\n",
    "            if e.reason.lower() != \"conflict\":\n",
    "                response = e.body\n",
    "                print(f\"Failed[{response.code}]: {response.message}\")\n",
    "        else:\n",
    "            raise e\n",
    "            \n",
    "\n",
    "if DATA_SOURCE in ['aws-s3', 'minio']:\n",
    "    try:\n",
    "        dataset = DkubeDataset(DKUBEUSERNAME, name=pname,remote=True)\n",
    "        dataset.update_dataset_source('aws_s3')\n",
    "        dataset.update_s3_details(\n",
    "            endpoint = ENDPOINT,\n",
    "            bucket=BUCKET,\n",
    "            prefix=prefix,\n",
    "            key=ACCESS_KEY,\n",
    "            secret=SECRET_KEY)\n",
    "        api.create_dataset(dataset)\n",
    "        \n",
    "    except Exception as e:\n",
    "        print(e)\n",
    "        if e.reason:\n",
    "            if e.reason.lower() != \"conflict\":\n",
    "                response = e.body\n",
    "                print(f\"Failed[{response.code}]: {response.message}\")\n",
    "        else:\n",
    "            raise e"
   ]
  },
  {
   "cell_type": "markdown",
   "metadata": {},
   "source": [
    "##### Labelled Dataset"
   ]
  },
  {
   "cell_type": "code",
   "execution_count": null,
   "metadata": {},
   "outputs": [],
   "source": [
    "gname = MONITOR_NAME+'-groundtruth'\n",
    "prefix = MONITOR_NAME+'/groundtruth'\n",
    "\n",
    "if DATA_SOURCE == 'local':\n",
    "    try:\n",
    "        dataset = DkubeDataset(DKUBEUSERNAME, name=gname)\n",
    "        api.create_dataset(dataset)\n",
    "    \n",
    "    except Exception as e:\n",
    "        if e.reason:\n",
    "            if e.reason.lower() != \"conflict\":\n",
    "                response = e.body\n",
    "                print(f\"Failed[{response.code}]: {response.message}\")\n",
    "        else:\n",
    "            raise e\n",
    "            \n",
    "\n",
    "if DATA_SOURCE in ['aws-s3', 'minio']:\n",
    "    try:\n",
    "        dataset = DkubeDataset(DKUBEUSERNAME, name=gname,remote=True)\n",
    "        dataset.update_dataset_source('aws_s3')\n",
    "        dataset.update_s3_details(endpoint = ENDPOINT,\n",
    "                                     bucket=BUCKET,prefix=prefix,\n",
    "                                     key=os.getenv(\"AWS_ACCESS_KEY_ID\",ACCESS_KEY),\n",
    "                                     secret=os.getenv(\"AWS_SECRET_ACCESS_KEY\",SECRET_KEY))\n",
    "        api.create_dataset(dataset)\n",
    "        \n",
    "    except Exception as e:\n",
    "        if e.reason:\n",
    "            if e.reason.lower() != \"conflict\":\n",
    "                response = e.body\n",
    "                print(f\"Failed[{response.code}]: {response.message}\")\n",
    "        else:\n",
    "            raise e"
   ]
  },
  {
   "cell_type": "markdown",
   "metadata": {},
   "source": [
    "\n",
    "#### Model"
   ]
  },
  {
   "cell_type": "code",
   "execution_count": null,
   "metadata": {},
   "outputs": [],
   "source": [
    "try:\n",
    "    api.upload_model(DKUBEUSERNAME, MODEL_NAME, filepath=\"insurance_model.zip\", extract=True)\n",
    "except Exception as e:\n",
    "    if e.reason:\n",
    "        if e.reason.lower() != \"conflict\":\n",
    "            response = e.body\n",
    "            print(f\"Failed[{response.code}]: {response.message}\")\n",
    "    else:\n",
    "        raise e"
   ]
  },
  {
   "cell_type": "markdown",
   "metadata": {},
   "source": [
    "#### Cleanup"
   ]
  },
  {
   "cell_type": "code",
   "execution_count": null,
   "metadata": {},
   "outputs": [],
   "source": [
    "## Set CLEANUP = True, after your experiment is complete.\n",
    "CLEANUP = False\n",
    "if CLEANUP:\n",
    "    api.delete_dataset(DKUBEUSERNAME,DKUBE_BASE_DATASET,force=True)\n",
    "    api.delete_dataset(DKUBEUSERNAME,RETRAINING_DATASET,force=True)\n",
    "    if DATA_SOURCE != \"sql\":\n",
    "        api.delete_dataset(DKUBEUSERNAME,pname,force=True)\n",
    "        api.delete_dataset(DKUBEUSERNAME,gname,force=True)\n",
    "    api.delete_model(DKUBEUSERNAME,MODEL_NAME,force=True)\n",
    "    %store -d d3_config"
   ]
  },
  {
   "cell_type": "code",
   "execution_count": null,
   "metadata": {},
   "outputs": [],
   "source": []
  }
 ],
 "metadata": {
  "kernelspec": {
   "display_name": "venv",
   "language": "python",
   "name": "python3"
  },
  "language_info": {
   "codemirror_mode": {
    "name": "ipython",
    "version": 3
   },
   "file_extension": ".py",
   "mimetype": "text/x-python",
   "name": "python",
   "nbconvert_exporter": "python",
   "pygments_lexer": "ipython3",
   "version": "3.10.7 (main, Sep 15 2022, 01:51:29) [Clang 14.0.0 (clang-1400.0.29.102)]"
  },
  "vscode": {
   "interpreter": {
    "hash": "5c90594ec78265bf63134d6f74df316f9d9fadf2de8c7c2c788d351ee1f43a4b"
   }
  }
 },
 "nbformat": 4,
 "nbformat_minor": 4
}
